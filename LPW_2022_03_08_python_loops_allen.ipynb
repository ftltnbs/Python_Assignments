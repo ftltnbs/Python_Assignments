{
  "cells": [
    {
      "cell_type": "markdown",
      "metadata": {
        "id": "view-in-github",
        "colab_type": "text"
      },
      "source": [
        "<a href=\"https://colab.research.google.com/github/ftltnbs/Python_Assignments/blob/master/LPW_2022_03_08_python_loops_allen.ipynb\" target=\"_parent\"><img src=\"https://colab.research.google.com/assets/colab-badge.svg\" alt=\"Open In Colab\"/></a>"
      ]
    },
    {
      "cell_type": "markdown",
      "id": "ab3cd892",
      "metadata": {
        "id": "ab3cd892"
      },
      "source": [
        "* LPW 2022 03 08 PYTHON LOOPS"
      ]
    },
    {
      "cell_type": "markdown",
      "id": "4787745e",
      "metadata": {
        "id": "4787745e"
      },
      "source": [
        "## 1 soru : Bir mülakatta katılımcının başarılı olabilmesi için İngilizce ya da Fransızcadan birini bilmesi ve yaşının 40’tan küçük olması gerekmektedir. Katılımcıya yukarıdaki bilgileri, adını ve soyadını sorarak mülakat sonucunu “Başarılı” yada “Başarısız” çıktıları ile gösteriniz.\n",
        "\n",
        "```if Statement```\n",
        "-https://www.geeksforgeeks.org/python-if-else/?ref=lbp\n",
        "\n",
        "-https://www.geeksforgeeks.org/check-multiple-conditions-in-if-statement-python/\n",
        "\n",
        "```Python Operators```\n",
        "-https://www.w3schools.com/python/python_operators.asp\n",
        "```\n",
        "solution 1: with If Statement\n",
        "solution 2: with Ternary `if` statements\n",
        "```"
      ]
    },
    {
      "cell_type": "code",
      "execution_count": null,
      "id": "363cc7e9",
      "metadata": {
        "id": "363cc7e9"
      },
      "outputs": [],
      "source": [
        "name = input(\"Name: \")\n",
        "lang = input(\"Language: \")\n",
        "age = input(\"Age: \")\n"
      ]
    },
    {
      "cell_type": "code",
      "execution_count": null,
      "id": "26c22e4e",
      "metadata": {
        "id": "26c22e4e"
      },
      "outputs": [],
      "source": [
        ""
      ]
    },
    {
      "cell_type": "markdown",
      "id": "4698a760",
      "metadata": {
        "id": "4698a760"
      },
      "source": [
        "## 2 soru: 3×3 bir matrisin eleman indislerini yazdıran python kodunu for döngüsü ile yazınız.\n",
        "\n",
        "https://www.geeksforgeeks.org/python-for-loops/?ref=lbp\n",
        "\n",
        "-```A FOR loop is used for ITERATING over a sequence.```\n",
        "```\n",
        "solution 1: with Nested For Loop - only print('String') \n",
        "solution 2: with Nested For Loop - with Python Collections (Arrays)\n",
        "```"
      ]
    },
    {
      "cell_type": "code",
      "execution_count": null,
      "id": "4a8b442f",
      "metadata": {
        "id": "4a8b442f"
      },
      "outputs": [],
      "source": [
        "matrisx = 3\n",
        "matrisy = 3\n"
      ]
    },
    {
      "cell_type": "code",
      "execution_count": null,
      "id": "f54dc4e8",
      "metadata": {
        "id": "f54dc4e8"
      },
      "outputs": [],
      "source": [
        ""
      ]
    },
    {
      "cell_type": "markdown",
      "id": "3cfbb23e",
      "metadata": {
        "id": "3cfbb23e"
      },
      "source": [
        "## 3 soru: Klavyeden girilen iki sayı arasındaki sayıların toplamını bulan python kodunu yazınız.\n",
        "```\n",
        "solution 1: with For Loop\n",
        "solution 2: with List Comprehension - with generator\n",
        "```"
      ]
    },
    {
      "cell_type": "code",
      "execution_count": null,
      "id": "8f912514",
      "metadata": {
        "id": "8f912514"
      },
      "outputs": [],
      "source": [
        "num31 = input()\n",
        "num32 = input()\n"
      ]
    },
    {
      "cell_type": "code",
      "execution_count": null,
      "id": "e329f089",
      "metadata": {
        "id": "e329f089"
      },
      "outputs": [],
      "source": [
        ""
      ]
    },
    {
      "cell_type": "markdown",
      "id": "1add710c",
      "metadata": {
        "id": "1add710c"
      },
      "source": [
        "## 4 soru: Klavyeden Girilen sayı 0 (sıfır) olana kadar girilen tüm sayıları toplayan ve ekranda gösteren python programını while döngüsü ile yazınız.\n",
        "\n",
        "https://www.geeksforgeeks.org/python-while-loop/?ref=lbp\n",
        "\n",
        "-```With the WHILE loop we can execute a set of STATEMENTS as long as a CONDITION is true.```\n",
        "```\n",
        "solution 1: with While Loop\n",
        "```"
      ]
    },
    {
      "cell_type": "code",
      "execution_count": null,
      "id": "9bb4d576",
      "metadata": {
        "id": "9bb4d576"
      },
      "outputs": [],
      "source": [
        "num4 = input()\n"
      ]
    },
    {
      "cell_type": "code",
      "execution_count": null,
      "id": "849d4734",
      "metadata": {
        "id": "849d4734"
      },
      "outputs": [],
      "source": [
        ""
      ]
    },
    {
      "cell_type": "markdown",
      "id": "782e7437",
      "metadata": {
        "id": "782e7437"
      },
      "source": [
        "## 5 soru: Klavyeden girilen bir sayının faktöriyelini while döngüsü kullanarak yapan python kodunu yazınız. Eger faktöriyelin uzunluğu 2 yi geçerse “exceeded limit” hatasını versin\n",
        "```\n",
        "solution 1: with While Loop\n",
        "solution 2: with For Loop\n",
        "```"
      ]
    },
    {
      "cell_type": "code",
      "execution_count": null,
      "id": "fad393b1",
      "metadata": {
        "id": "fad393b1"
      },
      "outputs": [],
      "source": [
        "num5 = input()"
      ]
    },
    {
      "cell_type": "code",
      "execution_count": null,
      "id": "d2b396b9",
      "metadata": {
        "id": "d2b396b9"
      },
      "outputs": [],
      "source": [
        ""
      ]
    },
    {
      "cell_type": "markdown",
      "id": "b95d90c5",
      "metadata": {
        "id": "b95d90c5"
      },
      "source": [
        "## 6 soru: Klavyeden girilen bir şifrenin karakterlerini kontrol ederek girilen şifrenin 4 karakter olana kadar yeni şifre isteyen, girince de doğru şifreyi ekranda gösteren python kodunu yazınız.\n",
        "```\n",
        "solution 1: with While Loop - with Continue and Break\n",
        "```"
      ]
    },
    {
      "cell_type": "code",
      "execution_count": null,
      "id": "e18992d8",
      "metadata": {
        "id": "e18992d8"
      },
      "outputs": [],
      "source": [
        "num6 = input()"
      ]
    },
    {
      "cell_type": "code",
      "execution_count": null,
      "id": "68f695e8",
      "metadata": {
        "id": "68f695e8"
      },
      "outputs": [],
      "source": [
        ""
      ]
    },
    {
      "cell_type": "markdown",
      "id": "3a882dba",
      "metadata": {
        "id": "3a882dba"
      },
      "source": [
        "## 7 soru: [1…81=n] klavyeden girilen int n değeri dahil kontrol edip 1 den başlayıp 7 rakamı geçen bütün sayıların listesini oluşturunuz.\n",
        "```\n",
        "solution 1: with For Loop\n",
        "solution 2: with List Comprehension\n",
        "```"
      ]
    },
    {
      "cell_type": "code",
      "execution_count": null,
      "id": "204df7f5",
      "metadata": {
        "id": "204df7f5"
      },
      "outputs": [],
      "source": [
        "num7 = input()"
      ]
    },
    {
      "cell_type": "code",
      "execution_count": null,
      "id": "09ed2e03",
      "metadata": {
        "id": "09ed2e03"
      },
      "outputs": [],
      "source": [
        ""
      ]
    },
    {
      "cell_type": "markdown",
      "id": "b6066962",
      "metadata": {
        "id": "b6066962"
      },
      "source": [
        "## 8 soru: Klavyeden girilen iki sayı arasındaki tek sayıların toplamının ortalamasını bulan python kodunu yazınız.\n",
        "```\n",
        "solution 1: with For Loop\n",
        "solution 2: with List Comprehension - with generator\n",
        "```"
      ]
    },
    {
      "cell_type": "code",
      "execution_count": null,
      "id": "a8ef720f",
      "metadata": {
        "id": "a8ef720f"
      },
      "outputs": [],
      "source": [
        "num81 = input()\n",
        "num82 = input()"
      ]
    },
    {
      "cell_type": "code",
      "execution_count": null,
      "id": "350a4779",
      "metadata": {
        "id": "350a4779"
      },
      "outputs": [],
      "source": [
        ""
      ]
    },
    {
      "cell_type": "markdown",
      "id": "e01e8d75",
      "metadata": {
        "id": "e01e8d75"
      },
      "source": [
        "## 9 soru: 0 dan 30’a kadar (30 dahil) olan sayılardan 2 ve 3 e bölünenleri ekranda sıralayan programın python kodlarını yazınız. \n",
        "```\n",
        "solution 1: with For Loop\n",
        "```"
      ]
    },
    {
      "cell_type": "code",
      "execution_count": null,
      "id": "0276bf24",
      "metadata": {
        "id": "0276bf24"
      },
      "outputs": [],
      "source": [
        "num9 = 30\n"
      ]
    },
    {
      "cell_type": "code",
      "execution_count": null,
      "id": "7be837f3",
      "metadata": {
        "id": "7be837f3"
      },
      "outputs": [],
      "source": [
        ""
      ]
    },
    {
      "cell_type": "markdown",
      "id": "3dfd4594",
      "metadata": {
        "id": "3dfd4594"
      },
      "source": [
        "## 10- soru: Klavyeden girilen bir sayının rakamlarının toplamını bulan ve ekranda gösteren python kodunu yazınız.\n",
        "```\n",
        "solution 1: with For Loop \n",
        "solution 2: with While Loop\n",
        "```"
      ]
    },
    {
      "cell_type": "code",
      "execution_count": null,
      "id": "70489850",
      "metadata": {
        "id": "70489850",
        "outputId": "83918ba8-330e-40ee-e58f-2241222cf042"
      },
      "outputs": [
        {
          "data": {
            "text/plain": [
              "9"
            ]
          },
          "execution_count": 11,
          "metadata": {},
          "output_type": "execute_result"
        }
      ],
      "source": [
        "var = int(input())\n",
        "\n"
      ]
    },
    {
      "cell_type": "code",
      "execution_count": null,
      "id": "6026ec2e",
      "metadata": {
        "id": "6026ec2e"
      },
      "outputs": [],
      "source": [
        ""
      ]
    },
    {
      "cell_type": "markdown",
      "id": "6f59a24d",
      "metadata": {
        "id": "6f59a24d"
      },
      "source": [
        "# Bonus"
      ]
    },
    {
      "cell_type": "markdown",
      "id": "842f91cc",
      "metadata": {
        "id": "842f91cc"
      },
      "source": [
        "## mini Bonus: Klavyeden girilen 0 ile 99.999 arasındaki basamak sayısını ekrana yazdıran algoritma?\n",
        "```\n",
        "solution 1: with If Statement\n",
        "solution 2: with Ternary `if` statements\n",
        "```"
      ]
    },
    {
      "cell_type": "code",
      "execution_count": null,
      "id": "d676b8fc",
      "metadata": {
        "id": "d676b8fc"
      },
      "outputs": [],
      "source": [
        ""
      ]
    },
    {
      "cell_type": "code",
      "execution_count": null,
      "id": "7b0f5153",
      "metadata": {
        "id": "7b0f5153"
      },
      "outputs": [],
      "source": [
        ""
      ]
    },
    {
      "cell_type": "markdown",
      "id": "10ab9ed3",
      "metadata": {
        "id": "10ab9ed3"
      },
      "source": [
        "## *' Shapes\n",
        "```\n",
        "solution 1: with Nested For Loop\n",
        "\n",
        "( ipucu örnek: line = 6, + * ve ‘ ‘ tek boşluk vardır. )\n",
        "1- şekil üzerinde sayılabilecek karakterleri sayısal olarak ifade etme\n",
        "2- şeklin matematiksel modelinin-ilişkisinin Oluşturulması (ör: kaç yıldız, kaç artı, kaç boşluk gibi)\n",
        "3- for döngüsün başlangıç ve bitiş noktaları hakkında fikir sahibi olma.\n",
        "4- print() kullanımı\n",
        "5- sonuç oluşturduğunuz modele göre kod tasarımı\n",
        "```"
      ]
    },
    {
      "cell_type": "code",
      "execution_count": null,
      "id": "13f00899",
      "metadata": {
        "id": "13f00899"
      },
      "outputs": [],
      "source": [
        ""
      ]
    },
    {
      "cell_type": "code",
      "execution_count": null,
      "id": "71a374bc",
      "metadata": {
        "id": "71a374bc"
      },
      "outputs": [],
      "source": [
        ""
      ]
    },
    {
      "cell_type": "code",
      "execution_count": null,
      "id": "2e50e584",
      "metadata": {
        "id": "2e50e584"
      },
      "outputs": [],
      "source": [
        ""
      ]
    },
    {
      "cell_type": "code",
      "execution_count": null,
      "id": "98466f18",
      "metadata": {
        "id": "98466f18"
      },
      "outputs": [],
      "source": [
        ""
      ]
    }
  ],
  "metadata": {
    "hide_input": false,
    "kernelspec": {
      "display_name": "Python 3 (ipykernel)",
      "language": "python",
      "name": "python3"
    },
    "language_info": {
      "codemirror_mode": {
        "name": "ipython",
        "version": 3
      },
      "file_extension": ".py",
      "mimetype": "text/x-python",
      "name": "python",
      "nbconvert_exporter": "python",
      "pygments_lexer": "ipython3",
      "version": "3.9.7"
    },
    "nbTranslate": {
      "displayLangs": [
        "tr",
        "en"
      ],
      "hotkey": "alt-t",
      "langInMainMenu": true,
      "sourceLang": "en",
      "targetLang": "tr",
      "useGoogleTranslate": true
    },
    "toc": {
      "base_numbering": 1,
      "nav_menu": {},
      "number_sections": true,
      "sideBar": true,
      "skip_h1_title": false,
      "title_cell": "Table of Contents",
      "title_sidebar": "Contents",
      "toc_cell": false,
      "toc_position": {
        "height": "calc(100% - 180px)",
        "left": "10px",
        "top": "150px",
        "width": "165px"
      },
      "toc_section_display": true,
      "toc_window_display": true
    },
    "varInspector": {
      "cols": {
        "lenName": 16,
        "lenType": 16,
        "lenVar": 40
      },
      "kernels_config": {
        "python": {
          "delete_cmd_postfix": "",
          "delete_cmd_prefix": "del ",
          "library": "var_list.py",
          "varRefreshCmd": "print(var_dic_list())"
        },
        "r": {
          "delete_cmd_postfix": ") ",
          "delete_cmd_prefix": "rm(",
          "library": "var_list.r",
          "varRefreshCmd": "cat(var_dic_list()) "
        }
      },
      "types_to_exclude": [
        "module",
        "function",
        "builtin_function_or_method",
        "instance",
        "_Feature"
      ],
      "window_display": false
    },
    "colab": {
      "name": "LPW-2022-03-08-python loops-allen.ipynb",
      "provenance": [],
      "include_colab_link": true
    }
  },
  "nbformat": 4,
  "nbformat_minor": 5
}