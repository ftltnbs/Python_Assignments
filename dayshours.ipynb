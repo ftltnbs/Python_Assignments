{
 "cells": [
  {
   "cell_type": "code",
   "execution_count": null,
   "metadata": {},
   "outputs": [],
   "source": [
    "calculation_to_units = 24\n",
    "name_of_unit = 'hours'\n",
    "\n",
    "\n",
    "def days_to_units(num_of_days):\n",
    "    if num_of_days > 0:\n",
    "        return f'{num_of_days} days are {num_of_days * calculation_to_units} {name_of_unit}'\n",
    "\n",
    "\n",
    "def validate_and_execute():\n",
    "    if user_input.isdigit():\n",
    "        user_input_number = int(user_input)\n",
    "        if user_input_number > 0:\n",
    "            calculated_value = days_to_units(user_input_number)\n",
    "            print(calculated_value)\n",
    "        elif user_input_number == 0:\n",
    "            return 'you entered a 0, please enter a valid positive number'\n",
    "    else:\n",
    "        print('your input is not number. Don\\'t ruin my program')\n",
    "\n",
    "\n",
    "user_input = input('Hey user, enter a number of days and I will convert it to hours!\\n')\n",
    "validate_and_execute()"
   ]
  }
 ],
 "metadata": {
  "language_info": {
   "name": "python"
  },
  "orig_nbformat": 4
 },
 "nbformat": 4,
 "nbformat_minor": 2
}
