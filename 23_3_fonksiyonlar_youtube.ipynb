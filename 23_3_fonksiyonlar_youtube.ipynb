{
  "nbformat": 4,
  "nbformat_minor": 0,
  "metadata": {
    "colab": {
      "name": "23.3.fonksiyonlar.youtube.ipynb",
      "provenance": [],
      "authorship_tag": "ABX9TyPtG7iLaVfegecFss82rwm8",
      "include_colab_link": true
    },
    "kernelspec": {
      "name": "python3",
      "display_name": "Python 3"
    },
    "language_info": {
      "name": "python"
    }
  },
  "cells": [
    {
      "cell_type": "markdown",
      "metadata": {
        "id": "view-in-github",
        "colab_type": "text"
      },
      "source": [
        "<a href=\"https://colab.research.google.com/github/ftltnbs/Python_Assignments/blob/master/23_3_fonksiyonlar_youtube.ipynb\" target=\"_parent\"><img src=\"https://colab.research.google.com/assets/colab-badge.svg\" alt=\"Open In Colab\"/></a>"
      ]
    },
    {
      "cell_type": "code",
      "execution_count": null,
      "metadata": {
        "colab": {
          "base_uri": "https://localhost:8080/"
        },
        "id": "Wb-Xkpm8URVg",
        "outputId": "1fa55caa-c710-48a2-b233-ba190af52cd2"
      },
      "outputs": [
        {
          "output_type": "stream",
          "name": "stdout",
          "text": [
            "5\n"
          ]
        }
      ],
      "source": [
        "def bes_bastir():#fonkiyon belli argumanlar bekliyorsa paranteze yazilir\n",
        "  print(5)\n",
        "\"\"\" aciklama, arguman : int\n",
        "retunr: string\"\"\" #docstring\n",
        "bes_bastir()\n",
        "#print ekrana bir sey yazdirir return ise dondurur"
      ]
    },
    {
      "cell_type": "markdown",
      "source": [
        "fonksiyonlarda print ve return farkli"
      ],
      "metadata": {
        "id": "iHN8WhjMWltf"
      }
    },
    {
      "cell_type": "code",
      "source": [
        "def bes_dondur():\n",
        "  return 5\n",
        "bes_dondur()"
      ],
      "metadata": {
        "colab": {
          "base_uri": "https://localhost:8080/"
        },
        "id": "T73LEpsrWsT9",
        "outputId": "6d8ecb40-866a-44a1-974c-4c52f616d27d"
      },
      "execution_count": null,
      "outputs": [
        {
          "output_type": "execute_result",
          "data": {
            "text/plain": [
              "5"
            ]
          },
          "metadata": {},
          "execution_count": 6
        }
      ]
    },
    {
      "cell_type": "code",
      "source": [
        "a = bes_bastir()\n",
        "print(a)"
      ],
      "metadata": {
        "colab": {
          "base_uri": "https://localhost:8080/"
        },
        "id": "eeD5vp64XFae",
        "outputId": "6ef6d339-1c80-4da4-ba29-17d20915bd2b"
      },
      "execution_count": null,
      "outputs": [
        {
          "output_type": "stream",
          "name": "stdout",
          "text": [
            "5\n",
            "None\n"
          ]
        }
      ]
    },
    {
      "cell_type": "markdown",
      "source": [
        "Argumanlar"
      ],
      "metadata": {
        "id": "fpt7355CXpdx"
      }
    },
    {
      "cell_type": "code",
      "source": [
        "def sayi_dondur(sayi):\n",
        "  return sayi\n",
        "sayi_dondur(100)"
      ],
      "metadata": {
        "colab": {
          "base_uri": "https://localhost:8080/"
        },
        "id": "id-jmZ-6XQLS",
        "outputId": "93c1e1e9-b02c-4040-f050-b097bed63fd6"
      },
      "execution_count": null,
      "outputs": [
        {
          "output_type": "execute_result",
          "data": {
            "text/plain": [
              "100"
            ]
          },
          "metadata": {},
          "execution_count": 9
        }
      ]
    },
    {
      "cell_type": "code",
      "source": [
        "def sayi_dondur(sayi=200): #sayiyi default yapiyoruz.\n",
        "  return sayi\n",
        "sayi_dondur()"
      ],
      "metadata": {
        "colab": {
          "base_uri": "https://localhost:8080/"
        },
        "id": "Pj86E4VLYX8x",
        "outputId": "e2f26f2c-ce0b-4b40-a8f3-b2dcbc7ba1eb"
      },
      "execution_count": null,
      "outputs": [
        {
          "output_type": "execute_result",
          "data": {
            "text/plain": [
              "200"
            ]
          },
          "metadata": {},
          "execution_count": 10
        }
      ]
    },
    {
      "cell_type": "code",
      "source": [
        "def buyuk_sayi_dondur(a,b):\n",
        "  if a > b :\n",
        "    return a\n",
        "  elif b > a :\n",
        "    return b\n",
        "buyuk_sayi_dondur(15,7)"
      ],
      "metadata": {
        "colab": {
          "base_uri": "https://localhost:8080/"
        },
        "id": "KJU2hr3LY5t8",
        "outputId": "1d2ee11b-dd8f-400e-9361-a83a65a06ba6"
      },
      "execution_count": null,
      "outputs": [
        {
          "output_type": "execute_result",
          "data": {
            "text/plain": [
              "15"
            ]
          },
          "metadata": {},
          "execution_count": 10
        }
      ]
    },
    {
      "cell_type": "markdown",
      "source": [
        "Fonksiyonlarin birbirleri ile iliskisi"
      ],
      "metadata": {
        "id": "2LKouEeIbpdg"
      }
    },
    {
      "cell_type": "code",
      "source": [
        "def metin_yazdir(a,b):\n",
        "  buyuk_sayi = buyuk_sayi_dondur(a,b)\n",
        "  sablon_metin = \"{} daha buyuk sayidir\".format(buyuk_sayi)\n",
        "  print(sablon_metin)\n",
        "metin_yazdir(3,5)"
      ],
      "metadata": {
        "colab": {
          "base_uri": "https://localhost:8080/"
        },
        "id": "njLsAqNDbA1F",
        "outputId": "85ace721-084a-4269-acd5-86b44c7e426a"
      },
      "execution_count": null,
      "outputs": [
        {
          "output_type": "stream",
          "name": "stdout",
          "text": [
            "5 daha buyuk sayidir\n"
          ]
        }
      ]
    },
    {
      "cell_type": "markdown",
      "source": [
        "Fonksiyonlar Birden Fazla Sonuc dondurebilir"
      ],
      "metadata": {
        "id": "ZAn-lBKndJI_"
      }
    },
    {
      "cell_type": "code",
      "source": [
        "def isim_soyisim_ayirma(isim_soyisim):\n",
        "  isim = isim_soyisim.split()[0]\n",
        "  soyisim = isim_soyisim.split()[1]\n",
        "  return isim, soyisim\n",
        "\n",
        "#isim_soyisim_ayirma(\"fuat altunbas\")\n",
        "a,b = isim_soyisim_ayirma(\"fuat altunbas\")\n",
        "print(a)\n",
        "print(b)"
      ],
      "metadata": {
        "colab": {
          "base_uri": "https://localhost:8080/"
        },
        "id": "2YM3UBJ-cvZj",
        "outputId": "6f56f3aa-dfa6-4e4f-a56e-a297d587e48a"
      },
      "execution_count": null,
      "outputs": [
        {
          "output_type": "stream",
          "name": "stdout",
          "text": [
            "fuat\n",
            "altunbas\n"
          ]
        }
      ]
    },
    {
      "cell_type": "markdown",
      "source": [
        "*args Argumani"
      ],
      "metadata": {
        "id": "bnscwKpmjcu_"
      }
    },
    {
      "cell_type": "code",
      "source": [
        "\" \".join([\"gokce\", \"gun\"])"
      ],
      "metadata": {
        "colab": {
          "base_uri": "https://localhost:8080/",
          "height": 35
        },
        "id": "NiOi16QyirFD",
        "outputId": "7222776f-efc7-4ecd-ef02-e74964efe8c6"
      },
      "execution_count": null,
      "outputs": [
        {
          "output_type": "execute_result",
          "data": {
            "text/plain": [
              "'gokce gun'"
            ],
            "application/vnd.google.colaboratory.intrinsic+json": {
              "type": "string"
            }
          },
          "metadata": {},
          "execution_count": 17
        }
      ]
    },
    {
      "cell_type": "code",
      "source": [
        "def isim_soyisim_birl(isim, soyisim):\n",
        "  return \" \".join([isim, soyisim])\n",
        "isim_soyisim_birl(\"esat\", \"akif\")"
      ],
      "metadata": {
        "colab": {
          "base_uri": "https://localhost:8080/",
          "height": 35
        },
        "id": "9i29YCTXkw5T",
        "outputId": "30debd87-a66c-4734-ffbd-110b32dd1676"
      },
      "execution_count": null,
      "outputs": [
        {
          "output_type": "execute_result",
          "data": {
            "text/plain": [
              "'esat akif'"
            ],
            "application/vnd.google.colaboratory.intrinsic+json": {
              "type": "string"
            }
          },
          "metadata": {},
          "execution_count": 20
        }
      ]
    },
    {
      "cell_type": "code",
      "source": [
        "def isim_soyisim_birl(*args):\n",
        "  return \" \".join([*args])\n",
        "isim_soyisim_birl(\"Esat\", \"Akif\", \"ahmet\")"
      ],
      "metadata": {
        "colab": {
          "base_uri": "https://localhost:8080/",
          "height": 35
        },
        "id": "ETM_MaOClN30",
        "outputId": "5312c868-c321-42b3-8b27-fd7b23cb4ad5"
      },
      "execution_count": null,
      "outputs": [
        {
          "output_type": "execute_result",
          "data": {
            "text/plain": [
              "'Esat Akif ahmet'"
            ],
            "application/vnd.google.colaboratory.intrinsic+json": {
              "type": "string"
            }
          },
          "metadata": {},
          "execution_count": 21
        }
      ]
    },
    {
      "cell_type": "code",
      "source": [
        "def isim_soyisim_birl(*args):\n",
        "  for item in args:\n",
        "    print(item)\n",
        "  return \" \".join([*args])\n",
        "isim_soyisim_birl(\"a\",\"b\",\"c\")"
      ],
      "metadata": {
        "colab": {
          "base_uri": "https://localhost:8080/",
          "height": 87
        },
        "id": "OXMjl_Q0mIAy",
        "outputId": "c0b32d67-2688-483c-996a-ae8c25308c7b"
      },
      "execution_count": null,
      "outputs": [
        {
          "output_type": "stream",
          "name": "stdout",
          "text": [
            "a\n",
            "b\n",
            "c\n"
          ]
        },
        {
          "output_type": "execute_result",
          "data": {
            "text/plain": [
              "'a b c'"
            ],
            "application/vnd.google.colaboratory.intrinsic+json": {
              "type": "string"
            }
          },
          "metadata": {},
          "execution_count": 29
        }
      ]
    },
    {
      "cell_type": "markdown",
      "source": [
        "**kwargs"
      ],
      "metadata": {
        "id": "M_o0uIB5m-My"
      }
    },
    {
      "cell_type": "code",
      "source": [
        "def gobek_adi_yazdir(**kwargs):\n",
        "  if 'gobekadi' in kwargs:\n",
        "    print(kwargs['gobekadi'])\n",
        "  else:\n",
        "    print('gobekadi yok')\n",
        "gobek_adi_yazdir(adi =\"erol\", gobekadi = 'mesut', soyadi ='gun')\n",
        "\n"
      ],
      "metadata": {
        "colab": {
          "base_uri": "https://localhost:8080/"
        },
        "id": "mHvY9-SJnA9K",
        "outputId": "a70eea84-6d3b-4859-f9cc-80bd2f21ba25"
      },
      "execution_count": null,
      "outputs": [
        {
          "output_type": "stream",
          "name": "stdout",
          "text": [
            "mesut\n"
          ]
        }
      ]
    },
    {
      "cell_type": "code",
      "source": [
        "def gobek_adi_yazdir(**kwargs):\n",
        "  if 'gobekadi' in kwargs:\n",
        "    print(kwargs['gobekadi'])\n",
        "  else:\n",
        "    print('gobekadi yok')\n",
        "gobek_adi_yazdir(adi =\"erol\",  soyadi ='gun')"
      ],
      "metadata": {
        "colab": {
          "base_uri": "https://localhost:8080/"
        },
        "id": "Ozk4jA85mnGG",
        "outputId": "fd3d53b7-8dcb-4e23-ede8-a96672c9ba60"
      },
      "execution_count": null,
      "outputs": [
        {
          "output_type": "stream",
          "name": "stdout",
          "text": [
            "gobekadi yok\n"
          ]
        }
      ]
    },
    {
      "cell_type": "markdown",
      "source": [
        "Map, filter ve lambda Expressions"
      ],
      "metadata": {
        "id": "4MV4SZEDhiZC"
      }
    },
    {
      "cell_type": "code",
      "source": [
        "def karesini_al(x):\n",
        "  return x**2\n",
        "karesini_al(5)"
      ],
      "metadata": {
        "colab": {
          "base_uri": "https://localhost:8080/"
        },
        "id": "FwzyGt7qhnyx",
        "outputId": "8ed101de-9565-4c6e-aa49-9423aa51bcba"
      },
      "execution_count": null,
      "outputs": [
        {
          "output_type": "execute_result",
          "data": {
            "text/plain": [
              "25"
            ]
          },
          "metadata": {},
          "execution_count": 1
        }
      ]
    },
    {
      "cell_type": "code",
      "source": [
        "sayilar = list(range(1,6)) #[*range(1,6)]\n",
        "print(sayilar)\n",
        "for index in range(len(sayilar)):\n",
        "  sayilar[index] = karesini_al(sayilar[index])\n",
        "print(sayilar)\n"
      ],
      "metadata": {
        "colab": {
          "base_uri": "https://localhost:8080/"
        },
        "id": "dO0gWxjtjgDW",
        "outputId": "e4b22535-c4b1-426c-f7b9-8b963245ec29"
      },
      "execution_count": null,
      "outputs": [
        {
          "output_type": "stream",
          "name": "stdout",
          "text": [
            "[1, 2, 3, 4, 5]\n",
            "[1, 4, 9, 16, 25]\n"
          ]
        }
      ]
    },
    {
      "cell_type": "code",
      "source": [
        "{*map(karesini_al, sayilar)} #map bir elaminin fonksiyonunu listenin tum elemanlarina uyguluyor.\n"
      ],
      "metadata": {
        "colab": {
          "base_uri": "https://localhost:8080/"
        },
        "id": "0qAPKzlOjvqV",
        "outputId": "cb126be2-8f5f-4ea8-9f2a-20d601d5c401"
      },
      "execution_count": null,
      "outputs": [
        {
          "output_type": "execute_result",
          "data": {
            "text/plain": [
              "{1, 16, 81, 256, 625}"
            ]
          },
          "metadata": {},
          "execution_count": 6
        }
      ]
    },
    {
      "cell_type": "code",
      "source": [
        "def cift_sayilar_filtrele(x):\n",
        "  if x%2==0:\n",
        "    return x\n",
        "  else:\n",
        "    return None\n",
        "cift_sayilar_filtrele(4)\n",
        "  "
      ],
      "metadata": {
        "colab": {
          "base_uri": "https://localhost:8080/"
        },
        "id": "Qk9TDdlSl7HZ",
        "outputId": "78b03f75-76ce-492b-d807-2ba7cee94fe9"
      },
      "execution_count": null,
      "outputs": [
        {
          "output_type": "execute_result",
          "data": {
            "text/plain": [
              "4"
            ]
          },
          "metadata": {},
          "execution_count": 9
        }
      ]
    },
    {
      "cell_type": "code",
      "source": [
        "def cift_sayilar_filtrele(x):\n",
        "  return x if x%2==0 else None\n",
        "  \n",
        "cift_sayilar_filtrele(6)"
      ],
      "metadata": {
        "colab": {
          "base_uri": "https://localhost:8080/"
        },
        "id": "KrHwOyzE75lG",
        "outputId": "b45bafbd-e608-4adc-ae38-644bb6aae661"
      },
      "execution_count": null,
      "outputs": [
        {
          "output_type": "execute_result",
          "data": {
            "text/plain": [
              "6"
            ]
          },
          "metadata": {},
          "execution_count": 4
        }
      ]
    },
    {
      "cell_type": "code",
      "source": [
        "sayilar = [*range(1,6)]\n",
        "[*filter(cift_sayilar_filtrele, sayilar)]"
      ],
      "metadata": {
        "colab": {
          "base_uri": "https://localhost:8080/"
        },
        "id": "HvcKQDl-8tlk",
        "outputId": "97ea6375-86ac-426c-f825-371f34d1b765"
      },
      "execution_count": null,
      "outputs": [
        {
          "output_type": "execute_result",
          "data": {
            "text/plain": [
              "[2, 4]"
            ]
          },
          "metadata": {},
          "execution_count": 5
        }
      ]
    },
    {
      "cell_type": "code",
      "source": [
        "sayilar = [*range(1,6)]\n",
        "[*map(lambda x: x**2, sayilar)]"
      ],
      "metadata": {
        "colab": {
          "base_uri": "https://localhost:8080/"
        },
        "id": "ix9DlKn28lpv",
        "outputId": "47f226f8-0113-4c21-e18d-15af805e18b2"
      },
      "execution_count": null,
      "outputs": [
        {
          "output_type": "execute_result",
          "data": {
            "text/plain": [
              "[1, 4, 9, 16, 25]"
            ]
          },
          "metadata": {},
          "execution_count": 6
        }
      ]
    },
    {
      "cell_type": "code",
      "source": [
        "sayilar = [*range(1,6)]\n",
        "[*filter(lambda x: x if x%2 == 0 else None, sayilar)]"
      ],
      "metadata": {
        "colab": {
          "base_uri": "https://localhost:8080/"
        },
        "id": "CRgxMJYB-dUh",
        "outputId": "d1cc259c-e640-44a8-8bac-19c8938bae7a"
      },
      "execution_count": null,
      "outputs": [
        {
          "output_type": "execute_result",
          "data": {
            "text/plain": [
              "[2, 4]"
            ]
          },
          "metadata": {},
          "execution_count": 8
        }
      ]
    },
    {
      "cell_type": "markdown",
      "source": [
        "Kullanici Girdisi"
      ],
      "metadata": {
        "id": "YiXhIZuU8hNs"
      }
    },
    {
      "cell_type": "code",
      "source": [
        "qwd\n",
        "\n"
      ],
      "metadata": {
        "colab": {
          "base_uri": "https://localhost:8080/",
          "height": 183
        },
        "id": "QwrBpIyQ8Ybo",
        "outputId": "ad0d4f0e-0886-42e8-a652-8240188167fd"
      },
      "execution_count": null,
      "outputs": [
        {
          "output_type": "error",
          "ename": "NameError",
          "evalue": "ignored",
          "traceback": [
            "\u001b[0;31m---------------------------------------------------------------------------\u001b[0m",
            "\u001b[0;31mNameError\u001b[0m                                 Traceback (most recent call last)",
            "\u001b[0;32m<ipython-input-10-2c45cb733063>\u001b[0m in \u001b[0;36m<module>\u001b[0;34m()\u001b[0m\n\u001b[0;32m----> 1\u001b[0;31m \u001b[0mqwd\u001b[0m\u001b[0;34m\u001b[0m\u001b[0;34m\u001b[0m\u001b[0m\n\u001b[0m\u001b[1;32m      2\u001b[0m \u001b[0;34m\u001b[0m\u001b[0m\n",
            "\u001b[0;31mNameError\u001b[0m: name 'qwd' is not defined"
          ]
        }
      ]
    },
    {
      "cell_type": "code",
      "source": [
        "from upper_"
      ],
      "metadata": {
        "id": "xpNw1qulhcRV"
      },
      "execution_count": null,
      "outputs": []
    }
  ]
}